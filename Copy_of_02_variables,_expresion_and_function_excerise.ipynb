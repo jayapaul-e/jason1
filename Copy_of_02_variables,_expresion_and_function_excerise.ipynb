{
  "nbformat": 4,
  "nbformat_minor": 0,
  "metadata": {
    "kernelspec": {
      "display_name": "Python 3",
      "language": "python",
      "name": "python3"
    },
    "language_info": {
      "codemirror_mode": {
        "name": "ipython",
        "version": 3
      },
      "file_extension": ".py",
      "mimetype": "text/x-python",
      "name": "python",
      "nbconvert_exporter": "python",
      "pygments_lexer": "ipython3",
      "version": "3.6.4"
    },
    "colab": {
      "name": "Copy of 02- variables, expresion and function - excerise.ipynb",
      "version": "0.3.2",
      "provenance": [],
      "include_colab_link": true
    }
  },
  "cells": [
    {
      "cell_type": "markdown",
      "metadata": {
        "id": "view-in-github",
        "colab_type": "text"
      },
      "source": [
        "<a href=\"https://colab.research.google.com/github/jayapaul-e/jason1/blob/master2/Copy_of_02_variables%2C_expresion_and_function_excerise.ipynb\" target=\"_parent\"><img src=\"https://colab.research.google.com/assets/colab-badge.svg\" alt=\"Open In Colab\"/></a>"
      ]
    },
    {
      "cell_type": "markdown",
      "metadata": {
        "id": "sdejbZbRpyko",
        "colab_type": "text"
      },
      "source": [
        "[![innomatics_1.png](https://s22.postimg.cc/vh6rctfn5/innomatics_1.png)](https://www.innomatics.in/)\n",
        "[www.innomatics.in](https:/innomatics.in/)"
      ]
    },
    {
      "cell_type": "markdown",
      "metadata": {
        "id": "0I6cmw6wpykt",
        "colab_type": "text"
      },
      "source": [
        "# Basics of Python"
      ]
    },
    {
      "cell_type": "code",
      "metadata": {
        "id": "7nSlIvU4pykw",
        "colab_type": "code",
        "outputId": "2775d34e-a0d2-43ec-ce5f-d09065fe5f8e",
        "colab": {}
      },
      "source": [
        "### variables, expression, statements, functions#CODE HERE"
      ],
      "execution_count": 0,
      "outputs": [
        {
          "output_type": "execute_result",
          "data": {
            "text/plain": [
              "'win32'"
            ]
          },
          "metadata": {
            "tags": []
          },
          "execution_count": 1
        }
      ]
    },
    {
      "cell_type": "markdown",
      "metadata": {
        "id": "3DymESV2pylB",
        "colab_type": "text"
      },
      "source": [
        "> Print version of **python**"
      ]
    },
    {
      "cell_type": "code",
      "metadata": {
        "id": "C3I6SlhspylE",
        "colab_type": "code",
        "outputId": "905c22d2-61a0-4517-df1f-e7067425bb07",
        "colab": {}
      },
      "source": [
        "#CODE HERE"
      ],
      "execution_count": 0,
      "outputs": [
        {
          "output_type": "stream",
          "text": [
            "3.6.4 |Anaconda custom (64-bit)| (default, Jan 16 2018, 10:22:32) [MSC v.1900 64 bit (AMD64)]\n"
          ],
          "name": "stdout"
        }
      ]
    },
    {
      "cell_type": "markdown",
      "metadata": {
        "id": "HkJHM3edpylW",
        "colab_type": "text"
      },
      "source": [
        "> print you current working directory"
      ]
    },
    {
      "cell_type": "code",
      "metadata": {
        "id": "U2QigQ2qpylY",
        "colab_type": "code",
        "outputId": "174c5328-3b93-41a8-d3d3-e3b1b0b9a698",
        "colab": {}
      },
      "source": [
        "#CODE HERE"
      ],
      "execution_count": 0,
      "outputs": [
        {
          "output_type": "execute_result",
          "data": {
            "text/plain": [
              "'C:\\\\Users\\\\srikanth\\\\Desktop\\\\Bricks\\\\course\\\\cs-python-v1\\\\AssignmentQ'"
            ]
          },
          "metadata": {
            "tags": []
          },
          "execution_count": 3
        }
      ]
    },
    {
      "cell_type": "markdown",
      "metadata": {
        "id": "tvACK2pzpylk",
        "colab_type": "text"
      },
      "source": [
        "> What today's date\n",
        "- day\n",
        "- month\n",
        "- year\n",
        "- complete date"
      ]
    },
    {
      "cell_type": "code",
      "metadata": {
        "id": "s4mwi_Gbpylm",
        "colab_type": "code",
        "colab": {}
      },
      "source": [
        "import datetime"
      ],
      "execution_count": 0,
      "outputs": []
    },
    {
      "cell_type": "code",
      "metadata": {
        "id": "t9vrQQ0bpylv",
        "colab_type": "code",
        "outputId": "28ce3fc8-7356-4d41-f5f1-a5472db2a601",
        "colab": {}
      },
      "source": [
        "#CODE HERE"
      ],
      "execution_count": 0,
      "outputs": [
        {
          "output_type": "execute_result",
          "data": {
            "text/plain": [
              "datetime.date(2018, 8, 19)"
            ]
          },
          "metadata": {
            "tags": []
          },
          "execution_count": 5
        }
      ]
    },
    {
      "cell_type": "code",
      "metadata": {
        "id": "-TDAnVcrpyl8",
        "colab_type": "code",
        "outputId": "85d6a581-778b-417d-c8b0-a96d931a4be9",
        "colab": {}
      },
      "source": [
        "#CODE HERE"
      ],
      "execution_count": 0,
      "outputs": [
        {
          "output_type": "stream",
          "text": [
            "Today Day: 19\n",
            "This Month: 8\n",
            "This Year: 2018\n",
            "2018-08-19\n"
          ],
          "name": "stdout"
        }
      ]
    },
    {
      "cell_type": "markdown",
      "metadata": {
        "id": "vpGpeFhlpymb",
        "colab_type": "text"
      },
      "source": [
        "> What is time now?"
      ]
    },
    {
      "cell_type": "code",
      "metadata": {
        "id": "z8HV_n3bpymd",
        "colab_type": "code",
        "colab": {}
      },
      "source": [
        "import time"
      ],
      "execution_count": 0,
      "outputs": []
    },
    {
      "cell_type": "code",
      "metadata": {
        "id": "7i3GEilNpyml",
        "colab_type": "code",
        "outputId": "d90d8726-ed3e-418a-b1fe-0b7b4774d836",
        "colab": {}
      },
      "source": [
        "#CODE HERE"
      ],
      "execution_count": 0,
      "outputs": [
        {
          "output_type": "execute_result",
          "data": {
            "text/plain": [
              "time.struct_time(tm_year=2018, tm_mon=8, tm_mday=19, tm_hour=22, tm_min=53, tm_sec=35, tm_wday=6, tm_yday=231, tm_isdst=0)"
            ]
          },
          "metadata": {
            "tags": []
          },
          "execution_count": 8
        }
      ]
    },
    {
      "cell_type": "code",
      "metadata": {
        "id": "xneTKddfpym5",
        "colab_type": "code",
        "outputId": "0369f7ae-90c2-42b6-ab30-254667de7419",
        "colab": {}
      },
      "source": [
        "time.strftime(\"%H:%M\")"
      ],
      "execution_count": 0,
      "outputs": [
        {
          "output_type": "execute_result",
          "data": {
            "text/plain": [
              "'22:53'"
            ]
          },
          "metadata": {
            "tags": []
          },
          "execution_count": 9
        }
      ]
    },
    {
      "cell_type": "code",
      "metadata": {
        "id": "MIX0SgJspynZ",
        "colab_type": "code",
        "outputId": "dafb68f9-1d42-4fdb-86d7-7e6f91dc3e67",
        "colab": {}
      },
      "source": [
        "time.strftime(\"%A %p\")"
      ],
      "execution_count": 0,
      "outputs": [
        {
          "output_type": "execute_result",
          "data": {
            "text/plain": [
              "'Sunday PM'"
            ]
          },
          "metadata": {
            "tags": []
          },
          "execution_count": 10
        }
      ]
    },
    {
      "cell_type": "markdown",
      "metadata": {
        "id": "ors4dKSNpynh",
        "colab_type": "text"
      },
      "source": [
        "### variables, expression, statements, functions"
      ]
    },
    {
      "cell_type": "markdown",
      "metadata": {
        "id": "M-sX_ZzJpynp",
        "colab_type": "text"
      },
      "source": [
        "> Assume that we execute the following assignment statements:\n",
        "width = 17\n",
        "height = 12.0\n",
        "delimiter = '.'\n",
        "For each of the following expressions, write the value of the expression and the type (of the value of\n",
        "the expression).\n",
        "1. width/2\n",
        "2. width/2.0\n",
        "3. height/3\n",
        "4. 1 + 2 * 5\n",
        "5. delimiter * 5"
      ]
    },
    {
      "cell_type": "code",
      "metadata": {
        "id": "YzuEHFtwpynr",
        "colab_type": "code",
        "colab": {}
      },
      "source": [
        "# CODE HERE"
      ],
      "execution_count": 0,
      "outputs": []
    },
    {
      "cell_type": "code",
      "metadata": {
        "id": "g2ipVL50pyn7",
        "colab_type": "code",
        "outputId": "29dcda9c-e5d9-41bc-e490-588bf7b930ea",
        "colab": {}
      },
      "source": [
        ""
      ],
      "execution_count": 0,
      "outputs": [
        {
          "output_type": "stream",
          "text": [
            "width/2 = 8.5\n",
            "width/2.0 = 8.5\n",
            "height/3 = 4.0\n",
            "11\n",
            ".....\n"
          ],
          "name": "stdout"
        }
      ]
    },
    {
      "cell_type": "markdown",
      "metadata": {
        "id": "zrQap7wmpyoH",
        "colab_type": "text"
      },
      "source": [
        "> 1. The volume of a sphere with radius r is $^4/_3 \\pi r^3$\n",
        ". What is the volume of a sphere with radius 5?\n",
        "Hint: 392.7 is wrong! *import math, math.pi*\n",
        "2. Suppose the cover price of a book is Rs.24.95, but bookstores get a 40% discount. Shipping costs\n",
        "Rs.3 for the first copy and 75 paise for each additional copy. What is the total wholesale cost for\n",
        "60 copies?\n",
        "3. If I leave my house at 6:52 am and run 1 mile at an easy pace (8:15 per mile), then 3 miles at\n",
        "tempo (7:12 per mile) and 1 mile at easy pace again, what time do I get home for breakfast?"
      ]
    },
    {
      "cell_type": "code",
      "metadata": {
        "id": "pVcSpbaUpyoK",
        "colab_type": "code",
        "colab": {}
      },
      "source": [
        "# Q1 CODE HERE"
      ],
      "execution_count": 0,
      "outputs": []
    },
    {
      "cell_type": "code",
      "metadata": {
        "id": "_EptXxT7pyoR",
        "colab_type": "code",
        "outputId": "aa0ac3a1-8516-4931-9485-65dceb0b2dda",
        "colab": {}
      },
      "source": [
        ""
      ],
      "execution_count": 0,
      "outputs": [
        {
          "output_type": "stream",
          "text": [
            "Enter radius of sphere: 5\n",
            "volume of sphere: 523.5987755982989\n"
          ],
          "name": "stdout"
        }
      ]
    },
    {
      "cell_type": "code",
      "metadata": {
        "id": "1CMvHa9Fpyop",
        "colab_type": "code",
        "colab": {}
      },
      "source": [
        "# Q2 CODE HERE"
      ],
      "execution_count": 0,
      "outputs": []
    },
    {
      "cell_type": "code",
      "metadata": {
        "id": "cou0M16Cpyow",
        "colab_type": "code",
        "outputId": "8774f882-6010-4ab4-b1c1-21fa22913a55",
        "colab": {}
      },
      "source": [
        ""
      ],
      "execution_count": 0,
      "outputs": [
        {
          "output_type": "stream",
          "text": [
            "Total whole sale cost after shipping is Rs. 646.05 \n"
          ],
          "name": "stdout"
        }
      ]
    },
    {
      "cell_type": "code",
      "metadata": {
        "id": "lKizqmktpypB",
        "colab_type": "code",
        "colab": {}
      },
      "source": [
        "# Q3 CODE HERE"
      ],
      "execution_count": 0,
      "outputs": []
    },
    {
      "cell_type": "code",
      "metadata": {
        "id": "P6TpTzK8pypM",
        "colab_type": "code",
        "colab": {}
      },
      "source": [
        "# Q3"
      ],
      "execution_count": 0,
      "outputs": []
    },
    {
      "cell_type": "markdown",
      "metadata": {
        "id": "DKCVGVhnpypk",
        "colab_type": "text"
      },
      "source": [
        "> Write a user defined function to find equlidean distance = $\\sqrt{((x2 - x1)^2 + (y2 - y1)^2)}$"
      ]
    },
    {
      "cell_type": "code",
      "metadata": {
        "id": "i_PD-WFJpypm",
        "colab_type": "code",
        "colab": {}
      },
      "source": [
        ""
      ],
      "execution_count": 0,
      "outputs": []
    },
    {
      "cell_type": "markdown",
      "metadata": {
        "id": "OuD0OhO-pypy",
        "colab_type": "text"
      },
      "source": [
        "Eg: distance between (1,5) and (5,7)"
      ]
    },
    {
      "cell_type": "code",
      "metadata": {
        "id": "bc6s5Wdvpyp0",
        "colab_type": "code",
        "outputId": "905d9991-5d2b-45e7-ab3d-896f91f04079",
        "colab": {}
      },
      "source": [
        "distance = equlidean(1,5,5,7)\n",
        "print(distance)"
      ],
      "execution_count": 0,
      "outputs": [
        {
          "output_type": "stream",
          "text": [
            "4.47213595499958\n"
          ],
          "name": "stdout"
        }
      ]
    },
    {
      "cell_type": "markdown",
      "metadata": {
        "id": "b4ZVtA4fpyp9",
        "colab_type": "text"
      },
      "source": [
        "> Find quotient and remainder for 26 / 5"
      ]
    },
    {
      "cell_type": "code",
      "metadata": {
        "id": "DVfFd11ypyqA",
        "colab_type": "code",
        "outputId": "174d8e44-d45a-488c-a43b-b914fc599f77",
        "colab": {}
      },
      "source": [
        ""
      ],
      "execution_count": 0,
      "outputs": [
        {
          "output_type": "stream",
          "text": [
            "quotient: 5\n",
            "remainder: 1\n"
          ],
          "name": "stdout"
        }
      ]
    },
    {
      "cell_type": "markdown",
      "metadata": {
        "id": "jR0--P0rpyqO",
        "colab_type": "text"
      },
      "source": [
        "# [Innomatics Technological Hub](https:/innomatics.in/)\n",
        "[www.innomatics.in](https:/innomatics.in/)"
      ]
    }
  ]
}